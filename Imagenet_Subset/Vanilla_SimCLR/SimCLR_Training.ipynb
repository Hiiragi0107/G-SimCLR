{
  "nbformat": 4,
  "nbformat_minor": 0,
  "metadata": {
    "kernelspec": {
      "display_name": "Python 3",
      "language": "python",
      "name": "python3"
    },
    "language_info": {
      "codemirror_mode": {
        "name": "ipython",
        "version": 3
      },
      "file_extension": ".py",
      "mimetype": "text/x-python",
      "name": "python",
      "nbconvert_exporter": "python",
      "pygments_lexer": "ipython3",
      "version": "3.7.1"
    },
    "papermill": {
      "duration": 2882.803834,
      "end_time": "2020-08-20T14:06:23.755869",
      "environment_variables": {},
      "exception": null,
      "input_path": "__notebook__.ipynb",
      "output_path": "__notebook__.ipynb",
      "parameters": {},
      "start_time": "2020-08-20T13:18:20.952035",
      "version": "2.1.0"
    },
    "colab": {
      "name": "SimCLR_Training.ipynb",
      "provenance": [],
      "include_colab_link": true
    },
    "accelerator": "GPU"
  },
  "cells": [
    {
      "cell_type": "markdown",
      "metadata": {
        "id": "view-in-github",
        "colab_type": "text"
      },
      "source": [
        "<a href=\"https://colab.research.google.com/github/ariG23498/G-SimCLR/blob/master/Imagenet_Subset/Vanilla_SimCLR/SimCLR_Training.ipynb\" target=\"_parent\"><img src=\"https://colab.research.google.com/assets/colab-badge.svg\" alt=\"Open In Colab\"/></a>"
      ]
    },
    {
      "cell_type": "markdown",
      "metadata": {
        "id": "LMp5lKNjgBXq",
        "papermill": {
          "duration": 0.008604,
          "end_time": "2020-08-20T13:18:25.306773",
          "exception": false,
          "start_time": "2020-08-20T13:18:25.298169",
          "status": "completed"
        },
        "tags": []
      },
      "source": [
        "## Initial setup"
      ]
    },
    {
      "cell_type": "code",
      "metadata": {
        "execution": {
          "iopub.execute_input": "2020-08-20T13:18:25.327168Z",
          "iopub.status.busy": "2020-08-20T13:18:25.326398Z",
          "iopub.status.idle": "2020-08-20T13:18:30.784395Z",
          "shell.execute_reply": "2020-08-20T13:18:30.785180Z"
        },
        "id": "lIYdn1woOS1n",
        "papermill": {
          "duration": 5.470812,
          "end_time": "2020-08-20T13:18:30.785440",
          "exception": false,
          "start_time": "2020-08-20T13:18:25.314628",
          "status": "completed"
        },
        "tags": [],
        "outputId": "30c8259d-4fa9-40c8-854a-107e073e983a",
        "colab": {
          "base_uri": "https://localhost:8080/",
          "height": 34
        }
      },
      "source": [
        "import tensorflow as tf\n",
        "print(tf.__version__)"
      ],
      "execution_count": 1,
      "outputs": [
        {
          "output_type": "stream",
          "text": [
            "2.3.0\n"
          ],
          "name": "stdout"
        }
      ]
    },
    {
      "cell_type": "code",
      "metadata": {
        "execution": {
          "iopub.execute_input": "2020-08-20T13:18:30.808206Z",
          "iopub.status.busy": "2020-08-20T13:18:30.807375Z",
          "iopub.status.idle": "2020-08-20T13:18:32.075905Z",
          "shell.execute_reply": "2020-08-20T13:18:32.074835Z"
        },
        "id": "dZowsDvOYK37",
        "papermill": {
          "duration": 1.280956,
          "end_time": "2020-08-20T13:18:32.076056",
          "exception": false,
          "start_time": "2020-08-20T13:18:30.795100",
          "status": "completed"
        },
        "tags": [],
        "outputId": "038122b0-6bf6-4614-980f-f61c91976ac8",
        "colab": {
          "base_uri": "https://localhost:8080/",
          "height": 357
        }
      },
      "source": [
        "!nvidia-smi"
      ],
      "execution_count": 2,
      "outputs": [
        {
          "output_type": "stream",
          "text": [
            "Fri Oct  2 02:10:50 2020       \n",
            "+-----------------------------------------------------------------------------+\n",
            "| NVIDIA-SMI 455.23.05    Driver Version: 418.67       CUDA Version: 10.1     |\n",
            "|-------------------------------+----------------------+----------------------+\n",
            "| GPU  Name        Persistence-M| Bus-Id        Disp.A | Volatile Uncorr. ECC |\n",
            "| Fan  Temp  Perf  Pwr:Usage/Cap|         Memory-Usage | GPU-Util  Compute M. |\n",
            "|                               |                      |               MIG M. |\n",
            "|===============================+======================+======================|\n",
            "|   0  Tesla T4            Off  | 00000000:00:04.0 Off |                    0 |\n",
            "| N/A   54C    P8    11W /  70W |      0MiB / 15079MiB |      0%      Default |\n",
            "|                               |                      |                 ERR! |\n",
            "+-------------------------------+----------------------+----------------------+\n",
            "                                                                               \n",
            "+-----------------------------------------------------------------------------+\n",
            "| Processes:                                                                  |\n",
            "|  GPU   GI   CI        PID   Type   Process name                  GPU Memory |\n",
            "|        ID   ID                                                   Usage      |\n",
            "|=============================================================================|\n",
            "|  No running processes found                                                 |\n",
            "+-----------------------------------------------------------------------------+\n"
          ],
          "name": "stdout"
        }
      ]
    },
    {
      "cell_type": "code",
      "metadata": {
        "id": "Dc9YBwNYEub4",
        "outputId": "64a363a0-6697-40ff-d1c0-a6192c82944f",
        "colab": {
          "base_uri": "https://localhost:8080/",
          "height": 170
        }
      },
      "source": [
        "!pip install -q wandb"
      ],
      "execution_count": 3,
      "outputs": [
        {
          "output_type": "stream",
          "text": [
            "\u001b[K     |████████████████████████████████| 1.7MB 6.2MB/s \n",
            "\u001b[K     |████████████████████████████████| 102kB 12.6MB/s \n",
            "\u001b[K     |████████████████████████████████| 163kB 39.7MB/s \n",
            "\u001b[K     |████████████████████████████████| 122kB 52.3MB/s \n",
            "\u001b[K     |████████████████████████████████| 102kB 9.7MB/s \n",
            "\u001b[K     |████████████████████████████████| 71kB 10.8MB/s \n",
            "\u001b[?25h  Building wheel for subprocess32 (setup.py) ... \u001b[?25l\u001b[?25hdone\n",
            "  Building wheel for watchdog (setup.py) ... \u001b[?25l\u001b[?25hdone\n",
            "  Building wheel for pathtools (setup.py) ... \u001b[?25l\u001b[?25hdone\n"
          ],
          "name": "stdout"
        }
      ]
    },
    {
      "cell_type": "code",
      "metadata": {
        "execution": {
          "iopub.execute_input": "2020-08-20T13:18:59.673116Z",
          "iopub.status.busy": "2020-08-20T13:18:59.672167Z",
          "iopub.status.idle": "2020-08-20T13:18:59.945386Z",
          "shell.execute_reply": "2020-08-20T13:18:59.944236Z"
        },
        "id": "421MrJNMYQD7",
        "papermill": {
          "duration": 0.293145,
          "end_time": "2020-08-20T13:18:59.945518",
          "exception": false,
          "start_time": "2020-08-20T13:18:59.652373",
          "status": "completed"
        },
        "tags": [],
        "outputId": "8b944d68-8b19-4e18-a443-a8888dedab9a",
        "colab": {
          "base_uri": "https://localhost:8080/",
          "height": 102
        }
      },
      "source": [
        "# Other imports\n",
        "from tensorflow.keras.layers import *\n",
        "from tensorflow.keras.models import *\n",
        "import matplotlib.pyplot as plt\n",
        "from imutils import paths\n",
        "from tqdm import tqdm\n",
        "import tensorflow as tf\n",
        "import numpy as np\n",
        "import cv2\n",
        "\n",
        "# Random seed fixation\n",
        "tf.random.set_seed(666)\n",
        "np.random.seed(666)\n",
        "\n",
        "# Authorize wandb\n",
        "import wandb\n",
        "wandb.login()"
      ],
      "execution_count": 4,
      "outputs": [
        {
          "output_type": "display_data",
          "data": {
            "application/javascript": [
              "\n",
              "        window._wandbApiKey = new Promise((resolve, reject) => {\n",
              "            function loadScript(url) {\n",
              "            return new Promise(function(resolve, reject) {\n",
              "                let newScript = document.createElement(\"script\");\n",
              "                newScript.onerror = reject;\n",
              "                newScript.onload = resolve;\n",
              "                document.body.appendChild(newScript);\n",
              "                newScript.src = url;\n",
              "            });\n",
              "            }\n",
              "            loadScript(\"https://cdn.jsdelivr.net/npm/postmate/build/postmate.min.js\").then(() => {\n",
              "            const iframe = document.createElement('iframe')\n",
              "            iframe.style.cssText = \"width:0;height:0;border:none\"\n",
              "            document.body.appendChild(iframe)\n",
              "            const handshake = new Postmate({\n",
              "                container: iframe,\n",
              "                url: 'https://wandb.ai/authorize'\n",
              "            });\n",
              "            const timeout = setTimeout(() => reject(\"Couldn't auto authenticate\"), 5000)\n",
              "            handshake.then(function(child) {\n",
              "                child.on('authorize', data => {\n",
              "                    clearTimeout(timeout)\n",
              "                    resolve(data)\n",
              "                });\n",
              "            });\n",
              "            })\n",
              "        });\n",
              "    "
            ],
            "text/plain": [
              "<IPython.core.display.Javascript object>"
            ]
          },
          "metadata": {
            "tags": []
          }
        },
        {
          "output_type": "stream",
          "text": [
            "\u001b[34m\u001b[1mwandb\u001b[0m: You can find your API key in your browser here: https://wandb.ai/authorize\n"
          ],
          "name": "stderr"
        },
        {
          "output_type": "stream",
          "text": [
            "wandb: Paste an API key from your profile and hit enter: ··········\n"
          ],
          "name": "stdout"
        },
        {
          "output_type": "stream",
          "text": [
            "\u001b[34m\u001b[1mwandb\u001b[0m: Appending key for api.wandb.ai to your netrc file: /root/.netrc\n"
          ],
          "name": "stderr"
        },
        {
          "output_type": "execute_result",
          "data": {
            "text/plain": [
              "True"
            ]
          },
          "metadata": {
            "tags": []
          },
          "execution_count": 4
        }
      ]
    },
    {
      "cell_type": "markdown",
      "metadata": {
        "id": "UUFlGxuJgBX9",
        "papermill": {
          "duration": 0.013659,
          "end_time": "2020-08-20T13:18:59.973345",
          "exception": false,
          "start_time": "2020-08-20T13:18:59.959686",
          "status": "completed"
        },
        "tags": []
      },
      "source": [
        "## Dataset gathering and preparation"
      ]
    },
    {
      "cell_type": "code",
      "metadata": {
        "execution": {
          "iopub.execute_input": "2020-08-20T13:19:00.009639Z",
          "iopub.status.busy": "2020-08-20T13:19:00.004495Z",
          "iopub.status.idle": "2020-08-20T13:19:05.414305Z",
          "shell.execute_reply": "2020-08-20T13:19:05.413703Z"
        },
        "id": "cq8xwssDYNTq",
        "papermill": {
          "duration": 5.428294,
          "end_time": "2020-08-20T13:19:05.414433",
          "exception": false,
          "start_time": "2020-08-20T13:18:59.986139",
          "status": "completed"
        },
        "tags": [],
        "outputId": "031a129b-0a80-4814-f45c-e4755fab5e8b",
        "colab": {
          "base_uri": "https://localhost:8080/",
          "height": 102
        }
      },
      "source": [
        "# Gather dataset\n",
        "!git clone https://github.com/thunderInfy/imagenet-5-categories"
      ],
      "execution_count": 5,
      "outputs": [
        {
          "output_type": "stream",
          "text": [
            "Cloning into 'imagenet-5-categories'...\n",
            "remote: Enumerating objects: 1532, done.\u001b[K\n",
            "remote: Total 1532 (delta 0), reused 0 (delta 0), pack-reused 1532\u001b[K\n",
            "Receiving objects: 100% (1532/1532), 88.56 MiB | 23.10 MiB/s, done.\n",
            "Resolving deltas: 100% (1/1), done.\n"
          ],
          "name": "stdout"
        }
      ]
    },
    {
      "cell_type": "code",
      "metadata": {
        "execution": {
          "iopub.execute_input": "2020-08-20T13:19:05.484226Z",
          "iopub.status.busy": "2020-08-20T13:19:05.483326Z",
          "iopub.status.idle": "2020-08-20T13:19:05.496100Z",
          "shell.execute_reply": "2020-08-20T13:19:05.495412Z"
        },
        "id": "Z0atoQ0MYT4b",
        "papermill": {
          "duration": 0.033408,
          "end_time": "2020-08-20T13:19:05.496220",
          "exception": false,
          "start_time": "2020-08-20T13:19:05.462812",
          "status": "completed"
        },
        "tags": [],
        "outputId": "cee7c566-3ee0-4608-8eef-ced7745a2c87",
        "colab": {
          "base_uri": "https://localhost:8080/",
          "height": 34
        }
      },
      "source": [
        "# How many training images for SimCLR?\n",
        "train_images = list(paths.list_images(\"imagenet-5-categories/train\"))\n",
        "print(len(train_images))"
      ],
      "execution_count": 6,
      "outputs": [
        {
          "output_type": "stream",
          "text": [
            "1250\n"
          ],
          "name": "stdout"
        }
      ]
    },
    {
      "cell_type": "code",
      "metadata": {
        "execution": {
          "iopub.execute_input": "2020-08-20T13:19:05.542042Z",
          "iopub.status.busy": "2020-08-20T13:19:05.536700Z",
          "iopub.status.idle": "2020-08-20T13:19:05.547133Z",
          "shell.execute_reply": "2020-08-20T13:19:05.546187Z"
        },
        "id": "Ad9dX7ONYV9Y",
        "papermill": {
          "duration": 0.034488,
          "end_time": "2020-08-20T13:19:05.547231",
          "exception": false,
          "start_time": "2020-08-20T13:19:05.512743",
          "status": "completed"
        },
        "tags": []
      },
      "source": [
        "# Augmentation utilities (differs from the original implementation)\n",
        "# Referred from: https://arxiv.org/pdf/2002.05709.pdf (Appendxi A \n",
        "# corresponding GitHub: https://github.com/google-research/simclr/)\n",
        "\n",
        "class CustomAugment(object):\n",
        "    def __call__(self, sample):        \n",
        "        # Random flips\n",
        "        sample = self._random_apply(tf.image.flip_left_right, sample, p=0.5)\n",
        "        \n",
        "        # Randomly apply transformation (color distortions) with probability p.\n",
        "        sample = self._random_apply(self._color_jitter, sample, p=0.8)\n",
        "        sample = self._random_apply(self._color_drop, sample, p=0.2)\n",
        "\n",
        "        return sample\n",
        "\n",
        "    def _color_jitter(self, x, s=1):\n",
        "        # one can also shuffle the order of following augmentations\n",
        "        # each time they are applied.\n",
        "        x = tf.image.random_brightness(x, max_delta=0.8*s)\n",
        "        x = tf.image.random_contrast(x, lower=1-0.8*s, upper=1+0.8*s)\n",
        "        x = tf.image.random_saturation(x, lower=1-0.8*s, upper=1+0.8*s)\n",
        "        x = tf.image.random_hue(x, max_delta=0.2*s)\n",
        "        x = tf.clip_by_value(x, 0, 1)\n",
        "        return x\n",
        "    \n",
        "    def _color_drop(self, x):\n",
        "        x = tf.image.rgb_to_grayscale(x)\n",
        "        x = tf.tile(x, [1, 1, 1, 3])\n",
        "        return x\n",
        "    \n",
        "    def _random_apply(self, func, x, p):\n",
        "        return tf.cond(\n",
        "          tf.less(tf.random.uniform([], minval=0, maxval=1, dtype=tf.float32),\n",
        "                  tf.cast(p, tf.float32)),\n",
        "          lambda: func(x),\n",
        "          lambda: x)"
      ],
      "execution_count": 7,
      "outputs": []
    },
    {
      "cell_type": "code",
      "metadata": {
        "execution": {
          "iopub.execute_input": "2020-08-20T13:19:05.585265Z",
          "iopub.status.busy": "2020-08-20T13:19:05.584647Z",
          "iopub.status.idle": "2020-08-20T13:19:08.361649Z",
          "shell.execute_reply": "2020-08-20T13:19:08.360531Z"
        },
        "id": "XKYH6UxnYa7g",
        "papermill": {
          "duration": 2.797217,
          "end_time": "2020-08-20T13:19:08.361806",
          "exception": false,
          "start_time": "2020-08-20T13:19:05.564589",
          "status": "completed"
        },
        "tags": []
      },
      "source": [
        "# Build the augmentation pipeline\n",
        "data_augmentation = Sequential([Lambda(CustomAugment())])"
      ],
      "execution_count": 8,
      "outputs": []
    },
    {
      "cell_type": "code",
      "metadata": {
        "execution": {
          "iopub.execute_input": "2020-08-20T13:19:08.405145Z",
          "iopub.status.busy": "2020-08-20T13:19:08.404408Z",
          "iopub.status.idle": "2020-08-20T13:19:08.409114Z",
          "shell.execute_reply": "2020-08-20T13:19:08.408587Z"
        },
        "id": "4eDTVhuHYdwi",
        "papermill": {
          "duration": 0.029705,
          "end_time": "2020-08-20T13:19:08.409218",
          "exception": false,
          "start_time": "2020-08-20T13:19:08.379513",
          "status": "completed"
        },
        "tags": []
      },
      "source": [
        "# Image preprocessing utils\n",
        "@tf.function\n",
        "def parse_images(image_path):\n",
        "    image_string = tf.io.read_file(image_path)\n",
        "    image = tf.image.decode_jpeg(image_string, channels=3)\n",
        "    image = tf.image.convert_image_dtype(image, tf.float32)\n",
        "    image = tf.image.resize(image, size=[224, 224])\n",
        "\n",
        "    return image"
      ],
      "execution_count": 9,
      "outputs": []
    },
    {
      "cell_type": "code",
      "metadata": {
        "execution": {
          "iopub.execute_input": "2020-08-20T13:19:08.456658Z",
          "iopub.status.busy": "2020-08-20T13:19:08.456012Z",
          "iopub.status.idle": "2020-08-20T13:19:08.640426Z",
          "shell.execute_reply": "2020-08-20T13:19:08.639818Z"
        },
        "id": "otqf-I5FZLqd",
        "papermill": {
          "duration": 0.214596,
          "end_time": "2020-08-20T13:19:08.640599",
          "exception": false,
          "start_time": "2020-08-20T13:19:08.426003",
          "status": "completed"
        },
        "tags": []
      },
      "source": [
        "# Create TensorFlow dataset\n",
        "BATCH_SIZE = 64\n",
        "\n",
        "train_ds = tf.data.Dataset.from_tensor_slices(train_images)\n",
        "train_ds = (\n",
        "    train_ds\n",
        "    .map(parse_images, num_parallel_calls=tf.data.experimental.AUTOTUNE)\n",
        "    .shuffle(1024)\n",
        "    .batch(BATCH_SIZE, drop_remainder=True)\n",
        "    .prefetch(tf.data.experimental.AUTOTUNE)\n",
        ")"
      ],
      "execution_count": 10,
      "outputs": []
    },
    {
      "cell_type": "markdown",
      "metadata": {
        "id": "2avjHJzRgBYS",
        "papermill": {
          "duration": 0.01597,
          "end_time": "2020-08-20T13:19:08.673947",
          "exception": false,
          "start_time": "2020-08-20T13:19:08.657977",
          "status": "completed"
        },
        "tags": []
      },
      "source": [
        "## Utilities"
      ]
    },
    {
      "cell_type": "code",
      "metadata": {
        "execution": {
          "iopub.execute_input": "2020-08-20T13:19:08.716279Z",
          "iopub.status.busy": "2020-08-20T13:19:08.715561Z",
          "iopub.status.idle": "2020-08-20T13:19:08.719677Z",
          "shell.execute_reply": "2020-08-20T13:19:08.719179Z"
        },
        "id": "F1_Wl0DzZQ5F",
        "papermill": {
          "duration": 0.029417,
          "end_time": "2020-08-20T13:19:08.719768",
          "exception": false,
          "start_time": "2020-08-20T13:19:08.690351",
          "status": "completed"
        },
        "tags": []
      },
      "source": [
        "# Architecture utils\n",
        "def get_resnet_simclr(hidden_1, hidden_2, hidden_3):\n",
        "    base_model = tf.keras.applications.ResNet50(include_top=False, weights=None, input_shape=(224, 224, 3))\n",
        "    base_model.trainabe = True\n",
        "    inputs = Input((224, 224, 3))\n",
        "    h = base_model(inputs, training=True)\n",
        "    h = GlobalAveragePooling2D()(h)\n",
        "\n",
        "    projection_1 = Dense(hidden_1)(h)\n",
        "    projection_1 = Activation(\"relu\")(projection_1)\n",
        "    projection_2 = Dense(hidden_2)(projection_1)\n",
        "    projection_2 = Activation(\"relu\")(projection_2)\n",
        "    projection_3 = Dense(hidden_3)(projection_2)\n",
        "\n",
        "    resnet_simclr = Model(inputs, projection_3)\n",
        "\n",
        "    return resnet_simclr"
      ],
      "execution_count": 11,
      "outputs": []
    },
    {
      "cell_type": "code",
      "metadata": {
        "execution": {
          "iopub.execute_input": "2020-08-20T13:19:08.758292Z",
          "iopub.status.busy": "2020-08-20T13:19:08.757469Z",
          "iopub.status.idle": "2020-08-20T13:19:10.191801Z",
          "shell.execute_reply": "2020-08-20T13:19:10.190867Z"
        },
        "id": "7-hwmH_LZc7K",
        "papermill": {
          "duration": 1.455783,
          "end_time": "2020-08-20T13:19:10.191978",
          "exception": false,
          "start_time": "2020-08-20T13:19:08.736195",
          "status": "completed"
        },
        "tags": [],
        "outputId": "9b566868-02f6-41c1-ac44-d9976dd0a938",
        "colab": {
          "base_uri": "https://localhost:8080/",
          "height": 204
        }
      },
      "source": [
        "!wget https://raw.githubusercontent.com/sthalles/SimCLR-tensorflow/master/utils/losses.py"
      ],
      "execution_count": 12,
      "outputs": [
        {
          "output_type": "stream",
          "text": [
            "--2020-10-02 02:11:49--  https://raw.githubusercontent.com/sthalles/SimCLR-tensorflow/master/utils/losses.py\n",
            "Resolving raw.githubusercontent.com (raw.githubusercontent.com)... 151.101.0.133, 151.101.64.133, 151.101.128.133, ...\n",
            "Connecting to raw.githubusercontent.com (raw.githubusercontent.com)|151.101.0.133|:443... connected.\n",
            "HTTP request sent, awaiting response... 200 OK\n",
            "Length: 891 [text/plain]\n",
            "Saving to: ‘losses.py’\n",
            "\n",
            "\rlosses.py             0%[                    ]       0  --.-KB/s               \rlosses.py           100%[===================>]     891  --.-KB/s    in 0s      \n",
            "\n",
            "2020-10-02 02:11:49 (45.3 MB/s) - ‘losses.py’ saved [891/891]\n",
            "\n"
          ],
          "name": "stdout"
        }
      ]
    },
    {
      "cell_type": "code",
      "metadata": {
        "execution": {
          "iopub.execute_input": "2020-08-20T13:19:10.238727Z",
          "iopub.status.busy": "2020-08-20T13:19:10.237860Z",
          "iopub.status.idle": "2020-08-20T13:19:10.241259Z",
          "shell.execute_reply": "2020-08-20T13:19:10.241733Z"
        },
        "papermill": {
          "duration": 0.031238,
          "end_time": "2020-08-20T13:19:10.241906",
          "exception": false,
          "start_time": "2020-08-20T13:19:10.210668",
          "status": "completed"
        },
        "tags": [],
        "id": "O9vGoH6jEYPc"
      },
      "source": [
        "# Reference: https://github.com/sthalles/SimCLR\n",
        "\n",
        "def get_negative_mask(batch_size):\n",
        "    # return a mask that removes the similarity score of equal/similar images.\n",
        "    # this function ensures that only distinct pair of images get their similarity scores\n",
        "    # passed as negative examples\n",
        "    negative_mask = np.ones((batch_size, 2 * batch_size), dtype=bool)\n",
        "    for i in range(batch_size):\n",
        "        negative_mask[i, i] = 0\n",
        "        negative_mask[i, i + batch_size] = 0\n",
        "    return tf.constant(negative_mask)"
      ],
      "execution_count": 13,
      "outputs": []
    },
    {
      "cell_type": "code",
      "metadata": {
        "execution": {
          "iopub.execute_input": "2020-08-20T13:19:10.314789Z",
          "iopub.status.busy": "2020-08-20T13:19:10.313394Z",
          "iopub.status.idle": "2020-08-20T13:19:10.318098Z",
          "shell.execute_reply": "2020-08-20T13:19:10.317399Z"
        },
        "id": "2OUhSNfTZgY6",
        "papermill": {
          "duration": 0.025538,
          "end_time": "2020-08-20T13:19:10.318211",
          "exception": false,
          "start_time": "2020-08-20T13:19:10.292673",
          "status": "completed"
        },
        "tags": []
      },
      "source": [
        "from losses import _dot_simililarity_dim1 as sim_func_dim1, _dot_simililarity_dim2 as sim_func_dim2"
      ],
      "execution_count": 14,
      "outputs": []
    },
    {
      "cell_type": "code",
      "metadata": {
        "execution": {
          "iopub.execute_input": "2020-08-20T13:19:10.356732Z",
          "iopub.status.busy": "2020-08-20T13:19:10.355959Z",
          "iopub.status.idle": "2020-08-20T13:19:10.359024Z",
          "shell.execute_reply": "2020-08-20T13:19:10.358358Z"
        },
        "id": "Y0Ae5dMLZney",
        "papermill": {
          "duration": 0.023835,
          "end_time": "2020-08-20T13:19:10.359115",
          "exception": false,
          "start_time": "2020-08-20T13:19:10.335280",
          "status": "completed"
        },
        "tags": []
      },
      "source": [
        "# Mask to remove positive examples from the batch of negative samples\n",
        "negative_mask = get_negative_mask(BATCH_SIZE)"
      ],
      "execution_count": 15,
      "outputs": []
    },
    {
      "cell_type": "code",
      "metadata": {
        "execution": {
          "iopub.execute_input": "2020-08-20T13:19:10.408313Z",
          "iopub.status.busy": "2020-08-20T13:19:10.407370Z",
          "iopub.status.idle": "2020-08-20T13:19:10.410688Z",
          "shell.execute_reply": "2020-08-20T13:19:10.410146Z"
        },
        "id": "K6qPdhPrZpFA",
        "papermill": {
          "duration": 0.034391,
          "end_time": "2020-08-20T13:19:10.410793",
          "exception": false,
          "start_time": "2020-08-20T13:19:10.376402",
          "status": "completed"
        },
        "tags": []
      },
      "source": [
        "@tf.function\n",
        "def train_step(xis, xjs, model, optimizer, criterion, temperature):\n",
        "    with tf.GradientTape() as tape:\n",
        "        zis = model(xis)\n",
        "        zjs = model(xjs)\n",
        "\n",
        "        # normalize projection feature vectors\n",
        "        zis = tf.math.l2_normalize(zis, axis=1)\n",
        "        zjs = tf.math.l2_normalize(zjs, axis=1)\n",
        "\n",
        "        l_pos = sim_func_dim1(zis, zjs)\n",
        "        l_pos = tf.reshape(l_pos, (BATCH_SIZE, 1))\n",
        "        l_pos /= temperature\n",
        "\n",
        "        negatives = tf.concat([zjs, zis], axis=0)\n",
        "\n",
        "        loss = 0\n",
        "\n",
        "        for positives in [zis, zjs]:\n",
        "            l_neg = sim_func_dim2(positives, negatives)\n",
        "\n",
        "            labels = tf.zeros(BATCH_SIZE, dtype=tf.int32)\n",
        "\n",
        "            l_neg = tf.boolean_mask(l_neg, negative_mask)\n",
        "            l_neg = tf.reshape(l_neg, (BATCH_SIZE, -1))\n",
        "            l_neg /= temperature\n",
        "\n",
        "            logits = tf.concat([l_pos, l_neg], axis=1) \n",
        "            loss += criterion(y_pred=logits, y_true=labels)\n",
        "\n",
        "        loss = loss / (2 * BATCH_SIZE)\n",
        "\n",
        "    gradients = tape.gradient(loss, model.trainable_variables)\n",
        "    optimizer.apply_gradients(zip(gradients, model.trainable_variables))\n",
        "\n",
        "    return loss"
      ],
      "execution_count": 16,
      "outputs": []
    },
    {
      "cell_type": "code",
      "metadata": {
        "execution": {
          "iopub.execute_input": "2020-08-20T13:19:10.495386Z",
          "iopub.status.busy": "2020-08-20T13:19:10.494475Z",
          "iopub.status.idle": "2020-08-20T13:19:10.498409Z",
          "shell.execute_reply": "2020-08-20T13:19:10.497847Z"
        },
        "id": "zfp8gT4ZZtif",
        "papermill": {
          "duration": 0.029098,
          "end_time": "2020-08-20T13:19:10.498505",
          "exception": false,
          "start_time": "2020-08-20T13:19:10.469407",
          "status": "completed"
        },
        "tags": []
      },
      "source": [
        "def train_simclr(model, dataset, optimizer, criterion,\n",
        "                 temperature=0.1, epochs=200):\n",
        "    step_wise_loss = []\n",
        "    epoch_wise_loss = []\n",
        "\n",
        "    for epoch in tqdm(range(epochs)):\n",
        "        for image_batch in dataset:\n",
        "            a = data_augmentation(image_batch)\n",
        "            b = data_augmentation(image_batch)\n",
        "\n",
        "            loss = train_step(a, b, model, optimizer, criterion, temperature)\n",
        "            step_wise_loss.append(loss)\n",
        "\n",
        "        epoch_wise_loss.append(np.mean(step_wise_loss))\n",
        "        wandb.log({\"nt_xentloss\": np.mean(step_wise_loss)})\n",
        "        \n",
        "        if epoch % 10 == 0:\n",
        "            print(\"epoch: {} loss: {:.3f}\".format(epoch + 1, np.mean(step_wise_loss)))\n",
        "\n",
        "    return epoch_wise_loss, model"
      ],
      "execution_count": 17,
      "outputs": []
    },
    {
      "cell_type": "markdown",
      "metadata": {
        "id": "atu93xMCgBYj",
        "papermill": {
          "duration": 0.016862,
          "end_time": "2020-08-20T13:19:10.532805",
          "exception": false,
          "start_time": "2020-08-20T13:19:10.515943",
          "status": "completed"
        },
        "tags": []
      },
      "source": [
        "## Training"
      ]
    },
    {
      "cell_type": "code",
      "metadata": {
        "id": "ILxD59GbFbGr",
        "outputId": "6f2d66f4-e2c0-459a-983f-a4895336a174",
        "colab": {
          "base_uri": "https://localhost:8080/",
          "height": 599
        }
      },
      "source": [
        "wandb.init(entity=\"g-simclr\", project=\"g-simclr\", id=\"imagenet-s-simclr\")"
      ],
      "execution_count": 18,
      "outputs": [
        {
          "output_type": "stream",
          "text": [
            "\u001b[34m\u001b[1mwandb\u001b[0m: W&B API key is configured (use `wandb login --relogin` to force relogin)\n"
          ],
          "name": "stderr"
        },
        {
          "output_type": "display_data",
          "data": {
            "text/html": [
              "\n",
              "                Tracking run with wandb version 0.10.4<br/>\n",
              "                Syncing run <strong style=\"color:#cdcd00\">imagenet-s-simclr</strong> to <a href=\"https://wandb.ai\" target=\"_blank\">Weights & Biases</a> <a href=\"https://docs.wandb.com/integrations/jupyter.html\" target=\"_blank\">(Documentation)</a>.<br/>\n",
              "                Project page: <a href=\"https://wandb.ai/g-simclr/g-simclr\" target=\"_blank\">https://wandb.ai/g-simclr/g-simclr</a><br/>\n",
              "                Run page: <a href=\"https://wandb.ai/g-simclr/g-simclr/runs/imagenet-s-simclr\" target=\"_blank\">https://wandb.ai/g-simclr/g-simclr/runs/imagenet-s-simclr</a><br/>\n",
              "                Run data is saved locally in <code>wandb/run-20201002_021342-imagenet-s-simclr</code><br/><br/>\n",
              "            "
            ],
            "text/plain": [
              "<IPython.core.display.HTML object>"
            ]
          },
          "metadata": {
            "tags": []
          }
        },
        {
          "output_type": "execute_result",
          "data": {
            "text/plain": [
              "<wandb.sdk.wandb_run.Run at 0x7ff30e324e10>"
            ],
            "text/html": [
              "<h1>Run(imagenet-s-simclr)</h1><p></p><iframe src=\"https://wandb.ai/g-simclr/g-simclr/runs/imagenet-s-simclr\" style=\"border:none;width:100%;height:400px\"></iframe>"
            ]
          },
          "metadata": {
            "tags": []
          },
          "execution_count": 18
        }
      ]
    },
    {
      "cell_type": "code",
      "metadata": {
        "execution": {
          "iopub.execute_input": "2020-08-20T13:19:10.580147Z",
          "iopub.status.busy": "2020-08-20T13:19:10.579308Z",
          "iopub.status.idle": "2020-08-20T14:06:21.315839Z",
          "shell.execute_reply": "2020-08-20T14:06:21.316493Z"
        },
        "id": "QKAoeXwJZ5S1",
        "papermill": {
          "duration": 2830.766596,
          "end_time": "2020-08-20T14:06:21.316666",
          "exception": false,
          "start_time": "2020-08-20T13:19:10.550070",
          "status": "completed"
        },
        "tags": [],
        "outputId": "af758b85-2a53-4228-c14c-9fb503807530",
        "colab": {
          "base_uri": "https://localhost:8080/",
          "height": 645
        }
      },
      "source": [
        "criterion = tf.keras.losses.SparseCategoricalCrossentropy(from_logits=True, \n",
        "                                                          reduction=tf.keras.losses.Reduction.SUM)\n",
        "\n",
        "decay_steps = 1000\n",
        "lr_decayed_fn = tf.keras.experimental.CosineDecay(\n",
        "    initial_learning_rate=0.1, decay_steps=decay_steps)\n",
        "optimizer = tf.keras.optimizers.SGD(lr_decayed_fn)\n",
        "\n",
        "resnet_simclr_2 = get_resnet_simclr(256, 128, 50)\n",
        "epoch_wise_loss, resnet_simclr  = train_simclr(resnet_simclr_2, train_ds, optimizer, criterion,\n",
        "                 temperature=0.1, epochs=200)\n",
        "\n",
        "with plt.xkcd():\n",
        "    plt.plot(epoch_wise_loss)\n",
        "    plt.title(\"tau = 0.1, h1 = 256, h2 = 128, h3 = 50\")\n",
        "    plt.show()"
      ],
      "execution_count": 19,
      "outputs": [
        {
          "output_type": "stream",
          "text": [
            "  0%|          | 1/200 [00:43<2:24:00, 43.42s/it]"
          ],
          "name": "stderr"
        },
        {
          "output_type": "stream",
          "text": [
            "epoch: 1 loss: 4.724\n"
          ],
          "name": "stdout"
        },
        {
          "output_type": "stream",
          "text": [
            "  6%|▌         | 11/200 [05:21<1:28:31, 28.10s/it]"
          ],
          "name": "stderr"
        },
        {
          "output_type": "stream",
          "text": [
            "epoch: 11 loss: 3.945\n"
          ],
          "name": "stdout"
        },
        {
          "output_type": "stream",
          "text": [
            " 10%|█         | 21/200 [09:57<1:22:22, 27.61s/it]"
          ],
          "name": "stderr"
        },
        {
          "output_type": "stream",
          "text": [
            "epoch: 21 loss: 3.429\n"
          ],
          "name": "stdout"
        },
        {
          "output_type": "stream",
          "text": [
            " 16%|█▌        | 31/200 [14:35<1:17:55, 27.67s/it]"
          ],
          "name": "stderr"
        },
        {
          "output_type": "stream",
          "text": [
            "epoch: 31 loss: 2.991\n"
          ],
          "name": "stdout"
        },
        {
          "output_type": "stream",
          "text": [
            " 20%|██        | 41/200 [19:11<1:13:14, 27.64s/it]"
          ],
          "name": "stderr"
        },
        {
          "output_type": "stream",
          "text": [
            "epoch: 41 loss: 2.639\n"
          ],
          "name": "stdout"
        },
        {
          "output_type": "stream",
          "text": [
            " 26%|██▌       | 51/200 [23:47<1:08:32, 27.60s/it]"
          ],
          "name": "stderr"
        },
        {
          "output_type": "stream",
          "text": [
            "epoch: 51 loss: 2.377\n"
          ],
          "name": "stdout"
        },
        {
          "output_type": "stream",
          "text": [
            " 30%|███       | 61/200 [28:23<1:04:01, 27.63s/it]"
          ],
          "name": "stderr"
        },
        {
          "output_type": "stream",
          "text": [
            "epoch: 61 loss: 2.235\n"
          ],
          "name": "stdout"
        },
        {
          "output_type": "stream",
          "text": [
            " 36%|███▌      | 71/200 [32:59<59:24, 27.63s/it]"
          ],
          "name": "stderr"
        },
        {
          "output_type": "stream",
          "text": [
            "epoch: 71 loss: 2.087\n"
          ],
          "name": "stdout"
        },
        {
          "output_type": "stream",
          "text": [
            " 40%|████      | 81/200 [37:35<54:44, 27.60s/it]"
          ],
          "name": "stderr"
        },
        {
          "output_type": "stream",
          "text": [
            "epoch: 81 loss: 2.003\n"
          ],
          "name": "stdout"
        },
        {
          "output_type": "stream",
          "text": [
            " 46%|████▌     | 91/200 [42:11<50:08, 27.60s/it]"
          ],
          "name": "stderr"
        },
        {
          "output_type": "stream",
          "text": [
            "epoch: 91 loss: 1.932\n"
          ],
          "name": "stdout"
        },
        {
          "output_type": "stream",
          "text": [
            " 50%|█████     | 101/200 [46:47<45:33, 27.61s/it]"
          ],
          "name": "stderr"
        },
        {
          "output_type": "stream",
          "text": [
            "epoch: 101 loss: 1.865\n"
          ],
          "name": "stdout"
        },
        {
          "output_type": "stream",
          "text": [
            " 56%|█████▌    | 111/200 [51:23<40:54, 27.58s/it]"
          ],
          "name": "stderr"
        },
        {
          "output_type": "stream",
          "text": [
            "epoch: 111 loss: 1.816\n"
          ],
          "name": "stdout"
        },
        {
          "output_type": "stream",
          "text": [
            " 60%|██████    | 121/200 [55:59<36:18, 27.58s/it]"
          ],
          "name": "stderr"
        },
        {
          "output_type": "stream",
          "text": [
            "epoch: 121 loss: 1.766\n"
          ],
          "name": "stdout"
        },
        {
          "output_type": "stream",
          "text": [
            " 66%|██████▌   | 131/200 [1:00:35<31:44, 27.60s/it]"
          ],
          "name": "stderr"
        },
        {
          "output_type": "stream",
          "text": [
            "epoch: 131 loss: 1.726\n"
          ],
          "name": "stdout"
        },
        {
          "output_type": "stream",
          "text": [
            " 70%|███████   | 141/200 [1:05:11<27:08, 27.60s/it]"
          ],
          "name": "stderr"
        },
        {
          "output_type": "stream",
          "text": [
            "epoch: 141 loss: 1.694\n"
          ],
          "name": "stdout"
        },
        {
          "output_type": "stream",
          "text": [
            " 76%|███████▌  | 151/200 [1:09:47<22:32, 27.60s/it]"
          ],
          "name": "stderr"
        },
        {
          "output_type": "stream",
          "text": [
            "epoch: 151 loss: 1.662\n"
          ],
          "name": "stdout"
        },
        {
          "output_type": "stream",
          "text": [
            " 80%|████████  | 161/200 [1:14:23<17:56, 27.60s/it]"
          ],
          "name": "stderr"
        },
        {
          "output_type": "stream",
          "text": [
            "epoch: 161 loss: 1.639\n"
          ],
          "name": "stdout"
        },
        {
          "output_type": "stream",
          "text": [
            " 86%|████████▌ | 171/200 [1:18:59<13:22, 27.66s/it]"
          ],
          "name": "stderr"
        },
        {
          "output_type": "stream",
          "text": [
            "epoch: 171 loss: 1.625\n"
          ],
          "name": "stdout"
        },
        {
          "output_type": "stream",
          "text": [
            " 90%|█████████ | 181/200 [1:23:35<08:44, 27.62s/it]"
          ],
          "name": "stderr"
        },
        {
          "output_type": "stream",
          "text": [
            "epoch: 181 loss: 1.615\n"
          ],
          "name": "stdout"
        },
        {
          "output_type": "stream",
          "text": [
            " 96%|█████████▌| 191/200 [1:28:12<04:09, 27.69s/it]"
          ],
          "name": "stderr"
        },
        {
          "output_type": "stream",
          "text": [
            "epoch: 191 loss: 1.602\n"
          ],
          "name": "stdout"
        },
        {
          "output_type": "stream",
          "text": [
            "100%|██████████| 200/200 [1:32:21<00:00, 27.71s/it]\n"
          ],
          "name": "stderr"
        },
        {
          "output_type": "display_data",
          "data": {
            "image/png": "[encoded data removed]",
            "text/plain": [
              "<Figure size 432x288 with 1 Axes>"
            ]
          },
          "metadata": {
            "tags": []
          }
        }
      ]
    },
    {
      "cell_type": "markdown",
      "metadata": {
        "id": "HXCy84vvgBYo",
        "papermill": {
          "duration": 0.030405,
          "end_time": "2020-08-20T14:06:21.380793",
          "exception": false,
          "start_time": "2020-08-20T14:06:21.350388",
          "status": "completed"
        },
        "tags": []
      },
      "source": [
        "## Store the weights to a safe place :)"
      ]
    },
    {
      "cell_type": "code",
      "metadata": {
        "execution": {
          "iopub.execute_input": "2020-08-20T14:06:21.483583Z",
          "iopub.status.busy": "2020-08-20T14:06:21.478271Z",
          "iopub.status.idle": "2020-08-20T14:06:21.914335Z",
          "shell.execute_reply": "2020-08-20T14:06:21.913656Z"
        },
        "id": "_OyIyB-kkHuN",
        "papermill": {
          "duration": 0.502091,
          "end_time": "2020-08-20T14:06:21.914466",
          "exception": false,
          "start_time": "2020-08-20T14:06:21.412375",
          "status": "completed"
        },
        "tags": []
      },
      "source": [
        "resnet_simclr.save('resnet_simclr1.h5')"
      ],
      "execution_count": 20,
      "outputs": []
    }
  ]
}